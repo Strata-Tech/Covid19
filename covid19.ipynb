{
  "nbformat": 4,
  "nbformat_minor": 0,
  "metadata": {
    "colab": {
      "name": "covid19.ipynb",
      "provenance": [],
      "authorship_tag": "ABX9TyMTqmjlFdYIEnxLD7eBvGLd",
      "include_colab_link": true
    },
    "kernelspec": {
      "name": "python3",
      "display_name": "Python 3"
    },
    "language_info": {
      "name": "python"
    }
  },
  "cells": [
    {
      "cell_type": "markdown",
      "metadata": {
        "id": "view-in-github",
        "colab_type": "text"
      },
      "source": [
        "<a href=\"https://colab.research.google.com/github/Strata-Tech/Covid19/blob/main/covid19.ipynb\" target=\"_parent\"><img src=\"https://colab.research.google.com/assets/colab-badge.svg\" alt=\"Open In Colab\"/></a>"
      ]
    },
    {
      "cell_type": "code",
      "metadata": {
        "colab": {
          "base_uri": "https://localhost:8080/"
        },
        "id": "3_KYrpMcYwL1",
        "outputId": "a02c1aff-eb8f-4732-dfc8-b18f50b06f35"
      },
      "source": [
        "!pip3 install plotly==4.8"
      ],
      "execution_count": 3,
      "outputs": [
        {
          "output_type": "stream",
          "text": [
            "Requirement already satisfied: plotly==4.8 in /usr/local/lib/python3.7/dist-packages (4.8.0)\n",
            "Requirement already satisfied: retrying>=1.3.3 in /usr/local/lib/python3.7/dist-packages (from plotly==4.8) (1.3.3)\n",
            "Requirement already satisfied: six in /usr/local/lib/python3.7/dist-packages (from plotly==4.8) (1.15.0)\n"
          ],
          "name": "stdout"
        }
      ]
    },
    {
      "cell_type": "code",
      "metadata": {
        "id": "GM_ysToQZzvB"
      },
      "source": [
        "# import the relevant packages\n",
        "import os\n",
        "import pandas as pd\n",
        "import numpy as np\n",
        "\n",
        "# ploty is an interactive visualization package built using javascript. \n",
        "# it is mostly used for explantory visualization (presenting to others)\n",
        "import plotly.express as px\n",
        "\n",
        "# requests is a package that allows Python to talk to the world wide web (www)\n",
        "import requests"
      ],
      "execution_count": 4,
      "outputs": []
    },
    {
      "cell_type": "code",
      "metadata": {
        "id": "M4MpDKLFZz5J"
      },
      "source": [
        "#Using the data provided by John Hopkins at https://github.com/CSSEGISandData/COVID-19\n",
        "#datasets used are confirmed,deaths and recovered cases.\n",
        "COVID_DATA_URLS = [\n",
        "  'https://raw.githubusercontent.com/CSSEGISandData/COVID-19/master/csse_covid_19_data/csse_covid_19_time_series/time_series_covid19_confirmed_global.csv',                 \n",
        "  'https://raw.githubusercontent.com/CSSEGISandData/COVID-19/master/csse_covid_19_data/csse_covid_19_time_series/time_series_covid19_deaths_global.csv',\n",
        "  'https://raw.githubusercontent.com/CSSEGISandData/COVID-19/master/csse_covid_19_data/csse_covid_19_time_series/time_series_covid19_recovered_global.csv'              \n",
        "]"
      ],
      "execution_count": 5,
      "outputs": []
    },
    {
      "cell_type": "code",
      "metadata": {
        "colab": {
          "base_uri": "https://localhost:8080/"
        },
        "id": "WyadLscLZz8-",
        "outputId": "f848aa2a-7cfe-4de6-a67e-b6cd21dd076c"
      },
      "source": [
        "#to check if links are working\n",
        "\n",
        "for url in COVID_DATA_URLS:\n",
        "  response=requests.head(url)\n",
        "  print(str(response.status_code)+':'+response.request.url)"
      ],
      "execution_count": 6,
      "outputs": [
        {
          "output_type": "stream",
          "text": [
            "200:https://raw.githubusercontent.com/CSSEGISandData/COVID-19/master/csse_covid_19_data/csse_covid_19_time_series/time_series_covid19_confirmed_global.csv\n",
            "200:https://raw.githubusercontent.com/CSSEGISandData/COVID-19/master/csse_covid_19_data/csse_covid_19_time_series/time_series_covid19_deaths_global.csv\n",
            "200:https://raw.githubusercontent.com/CSSEGISandData/COVID-19/master/csse_covid_19_data/csse_covid_19_time_series/time_series_covid19_recovered_global.csv\n"
          ],
          "name": "stdout"
        }
      ]
    },
    {
      "cell_type": "code",
      "metadata": {
        "colab": {
          "base_uri": "https://localhost:8080/"
        },
        "id": "lgNk4CmtZ0Ak",
        "outputId": "8dc18260-1ecb-49f1-9554-48c9641b811f"
      },
      "source": [
        "#Creating a function which downloads file and save it in colab hosted runtime if file does not exist. If file exists, reuse the saved file\n",
        "\n",
        "\n",
        "url = 'https://raw.githubusercontent.com/CSSEGISandData/COVID-19/master/csse_covid_19_data/csse_covid_19_time_series/time_series_covid19_confirmed_global.csv'\n",
        "\n",
        "\n",
        "os.listdir()"
      ],
      "execution_count": 7,
      "outputs": [
        {
          "output_type": "execute_result",
          "data": {
            "text/plain": [
              "['.config',\n",
              " 'time_series_covid19_deaths_global.csv',\n",
              " 'time_series_covid19_recovered_global.csv',\n",
              " 'time_series_covid19_confirmed_global.csv',\n",
              " 'sample_data']"
            ]
          },
          "metadata": {
            "tags": []
          },
          "execution_count": 7
        }
      ]
    },
    {
      "cell_type": "code",
      "metadata": {
        "id": "zwA-VJngZ0El"
      },
      "source": [
        "def load_df_from_url(url):\n",
        "  filename=url.split('/')[-1]\n",
        "  if filename in os.listdir():\n",
        "    df=pd.read_csv(filename)\n",
        "    print(f\"Using saved file {filename} on colab hosted runtime\")\n",
        "\n",
        "  else:\n",
        "    df=pd.read_csv(url)\n",
        "    df.to_csv(f\"{filename}\",index=False)\n",
        "    print(f\"Downloaded file {filename} from internet and saved to colab hosted runtime\")\n",
        "\n",
        "  return df, filename\n",
        "  \n"
      ],
      "execution_count": 8,
      "outputs": []
    },
    {
      "cell_type": "code",
      "metadata": {
        "colab": {
          "base_uri": "https://localhost:8080/"
        },
        "id": "Z86DwGfMZ0Ja",
        "outputId": "68ebc848-2def-47f1-fbfd-5b08617e64ec"
      },
      "source": [
        "#testing function with first url in the list\n",
        "\n",
        "url = COVID_DATA_URLS[0]\n",
        "df, filename = load_df_from_url(url)\n",
        "\n",
        "#to see all columns\n",
        "pd.options.display.width=9999\n",
        "pd.options.display.max_columns=10\n",
        "\n",
        "print(df.head())\n",
        "print(df.tail())\n"
      ],
      "execution_count": 9,
      "outputs": [
        {
          "output_type": "stream",
          "text": [
            "Using saved file time_series_covid19_confirmed_global.csv on colab hosted runtime\n",
            "  Province/State Country/Region       Lat       Long  1/22/20  ...  8/3/21  8/4/21  8/5/21  8/6/21  8/7/21\n",
            "0            NaN    Afghanistan  33.93911  67.709953        0  ...  148572  148933  149361  149810  149810\n",
            "1            NaN        Albania  41.15330  20.168300        0  ...  133211  133310  133442  133591  133730\n",
            "2            NaN        Algeria  28.03390   1.659600        0  ...  175229  176724  178013  179216  180356\n",
            "3            NaN        Andorra  42.50630   1.521800        0  ...   14766   14797   14809   14836   14836\n",
            "4            NaN         Angola -11.20270  17.873900        0  ...   43070   43158   43269   43487   43592\n",
            "\n",
            "[5 rows x 568 columns]\n",
            "    Province/State      Country/Region        Lat        Long  1/22/20  ...  8/3/21  8/4/21  8/5/21  8/6/21  8/7/21\n",
            "274            NaN             Vietnam  14.058324  108.277199        0  ...  174461  181756  189066  193381  205656\n",
            "275            NaN  West Bank and Gaza  31.952200   35.233200        0  ...  317264  317404  317534  317703  317703\n",
            "276            NaN               Yemen  15.552727   48.516388        0  ...    7086    7096    7104    7131    7131\n",
            "277            NaN              Zambia -13.133897   27.849332        0  ...  197123  197791  198455  199135  199662\n",
            "278            NaN            Zimbabwe -19.015438   29.154857        0  ...  112435  113526  114489  115445  115890\n",
            "\n",
            "[5 rows x 568 columns]\n"
          ],
          "name": "stdout"
        }
      ]
    },
    {
      "cell_type": "code",
      "metadata": {
        "id": "oi5X6akZgXgW"
      },
      "source": [
        "#writing a loop for each datafile in the list \n",
        "#so that we can load the file in memory\n",
        "#rename the columns from Province/State to Province,Country/Region to Country\n",
        "#change all columns to lower case\n",
        "#Fill missing values in province with values from country\n",
        "#Check and drop columns with overwhelming null values.\n",
        "#Convert the datset into a panel set with dates and countries as rows.\n",
        "#Merge the panel dataframe into the main dataset, to arrive at confirmed, death and recovered columns"
      ],
      "execution_count": null,
      "outputs": []
    },
    {
      "cell_type": "code",
      "metadata": {
        "colab": {
          "base_uri": "https://localhost:8080/"
        },
        "id": "3ggJOj41gXon",
        "outputId": "02054023-ff0b-4d7e-9315-e81e0d1d2142"
      },
      "source": [
        "## For each data file,\n",
        "# enumerate creates a tuple with a counter that starts from 0 and the elements of the list, e.g. (0, URL1), (1, URL2), etc.\n",
        "for i, url in enumerate(COVID_DATA_URLS):\n",
        "\n",
        "    # Load the file into memory\n",
        "    df, filename = load_df_from_url(url)\n",
        "\n",
        "    # rename columns\n",
        "    df.rename(columns={'Province/State': 'Province', 'Country/Region':'Country'}, inplace=True)\n",
        "    # and make the column names lowercase, \n",
        "    # general method, can be used in all dfs\n",
        "    df.columns = [c.lower() for c in df.columns]\n",
        "\n",
        "    # fill missing provinces/states with the country/region name\n",
        "    df['province'].fillna(df['country'], inplace=True)\n",
        "\n",
        "    # Create a pivot table with 'Province/State', 'Country/Region', 'Lat', 'Long' groups\n",
        "    df = df.groupby(['province','country', 'lat', 'long']).sum().reset_index()\n",
        "\n",
        "    # split the filename to get the keywords we want (confirmed, deaths, recovered)\n",
        "    value_name = filename.split('_')[-2]\n",
        "\n",
        "    # pivot the dataframe into a panel format.\n",
        "    df = df.melt(id_vars=['province','country', 'lat', 'long'], var_name='date',value_name=value_name)\n",
        "\n",
        "    # convert date column to datetime\n",
        "    df['date'] = pd.to_datetime(df['date'])\n",
        "\n",
        "    # Merge the dataframe into the main dataset\n",
        "    # checking if it's the first df to be read\n",
        "    # i should be equal to 0\n",
        "    # i is created from enumerate()\n",
        "    if i == 0:\n",
        "        dataset = df\n",
        "    # print(list(df))\n",
        "    else:\n",
        "        dataset = pd.merge(dataset, df, how='outer', on=['province','country', 'date', 'lat', 'long'])\n",
        "\n",
        "dataset.sort_values(['province','country', 'date'], inplace=True)\n"
      ],
      "execution_count": 10,
      "outputs": [
        {
          "output_type": "stream",
          "text": [
            "Using saved file time_series_covid19_confirmed_global.csv on colab hosted runtime\n",
            "Using saved file time_series_covid19_deaths_global.csv on colab hosted runtime\n",
            "Using saved file time_series_covid19_recovered_global.csv on colab hosted runtime\n"
          ],
          "name": "stdout"
        }
      ]
    },
    {
      "cell_type": "code",
      "metadata": {
        "colab": {
          "base_uri": "https://localhost:8080/",
          "height": 419
        },
        "id": "Ftm2n1crgXxC",
        "outputId": "69e60759-51c1-4955-f726-69be8751c6b4"
      },
      "source": [
        "dataset"
      ],
      "execution_count": 11,
      "outputs": [
        {
          "output_type": "execute_result",
          "data": {
            "text/html": [
              "<div>\n",
              "<style scoped>\n",
              "    .dataframe tbody tr th:only-of-type {\n",
              "        vertical-align: middle;\n",
              "    }\n",
              "\n",
              "    .dataframe tbody tr th {\n",
              "        vertical-align: top;\n",
              "    }\n",
              "\n",
              "    .dataframe thead th {\n",
              "        text-align: right;\n",
              "    }\n",
              "</style>\n",
              "<table border=\"1\" class=\"dataframe\">\n",
              "  <thead>\n",
              "    <tr style=\"text-align: right;\">\n",
              "      <th></th>\n",
              "      <th>province</th>\n",
              "      <th>country</th>\n",
              "      <th>lat</th>\n",
              "      <th>long</th>\n",
              "      <th>date</th>\n",
              "      <th>confirmed</th>\n",
              "      <th>deaths</th>\n",
              "      <th>recovered</th>\n",
              "    </tr>\n",
              "  </thead>\n",
              "  <tbody>\n",
              "    <tr>\n",
              "      <th>0</th>\n",
              "      <td>Afghanistan</td>\n",
              "      <td>Afghanistan</td>\n",
              "      <td>33.939110</td>\n",
              "      <td>67.709953</td>\n",
              "      <td>2020-01-22</td>\n",
              "      <td>0.0</td>\n",
              "      <td>0.0</td>\n",
              "      <td>0.0</td>\n",
              "    </tr>\n",
              "    <tr>\n",
              "      <th>277</th>\n",
              "      <td>Afghanistan</td>\n",
              "      <td>Afghanistan</td>\n",
              "      <td>33.939110</td>\n",
              "      <td>67.709953</td>\n",
              "      <td>2020-01-23</td>\n",
              "      <td>0.0</td>\n",
              "      <td>0.0</td>\n",
              "      <td>0.0</td>\n",
              "    </tr>\n",
              "    <tr>\n",
              "      <th>554</th>\n",
              "      <td>Afghanistan</td>\n",
              "      <td>Afghanistan</td>\n",
              "      <td>33.939110</td>\n",
              "      <td>67.709953</td>\n",
              "      <td>2020-01-24</td>\n",
              "      <td>0.0</td>\n",
              "      <td>0.0</td>\n",
              "      <td>0.0</td>\n",
              "    </tr>\n",
              "    <tr>\n",
              "      <th>831</th>\n",
              "      <td>Afghanistan</td>\n",
              "      <td>Afghanistan</td>\n",
              "      <td>33.939110</td>\n",
              "      <td>67.709953</td>\n",
              "      <td>2020-01-25</td>\n",
              "      <td>0.0</td>\n",
              "      <td>0.0</td>\n",
              "      <td>0.0</td>\n",
              "    </tr>\n",
              "    <tr>\n",
              "      <th>1108</th>\n",
              "      <td>Afghanistan</td>\n",
              "      <td>Afghanistan</td>\n",
              "      <td>33.939110</td>\n",
              "      <td>67.709953</td>\n",
              "      <td>2020-01-26</td>\n",
              "      <td>0.0</td>\n",
              "      <td>0.0</td>\n",
              "      <td>0.0</td>\n",
              "    </tr>\n",
              "    <tr>\n",
              "      <th>...</th>\n",
              "      <td>...</td>\n",
              "      <td>...</td>\n",
              "      <td>...</td>\n",
              "      <td>...</td>\n",
              "      <td>...</td>\n",
              "      <td>...</td>\n",
              "      <td>...</td>\n",
              "      <td>...</td>\n",
              "    </tr>\n",
              "    <tr>\n",
              "      <th>155119</th>\n",
              "      <td>Zimbabwe</td>\n",
              "      <td>Zimbabwe</td>\n",
              "      <td>-19.015438</td>\n",
              "      <td>29.154857</td>\n",
              "      <td>2021-08-03</td>\n",
              "      <td>112435.0</td>\n",
              "      <td>3676.0</td>\n",
              "      <td>81570.0</td>\n",
              "    </tr>\n",
              "    <tr>\n",
              "      <th>155396</th>\n",
              "      <td>Zimbabwe</td>\n",
              "      <td>Zimbabwe</td>\n",
              "      <td>-19.015438</td>\n",
              "      <td>29.154857</td>\n",
              "      <td>2021-08-04</td>\n",
              "      <td>113526.0</td>\n",
              "      <td>3711.0</td>\n",
              "      <td>82994.0</td>\n",
              "    </tr>\n",
              "    <tr>\n",
              "      <th>155673</th>\n",
              "      <td>Zimbabwe</td>\n",
              "      <td>Zimbabwe</td>\n",
              "      <td>-19.015438</td>\n",
              "      <td>29.154857</td>\n",
              "      <td>2021-08-05</td>\n",
              "      <td>114489.0</td>\n",
              "      <td>3754.0</td>\n",
              "      <td>0.0</td>\n",
              "    </tr>\n",
              "    <tr>\n",
              "      <th>155950</th>\n",
              "      <td>Zimbabwe</td>\n",
              "      <td>Zimbabwe</td>\n",
              "      <td>-19.015438</td>\n",
              "      <td>29.154857</td>\n",
              "      <td>2021-08-06</td>\n",
              "      <td>115445.0</td>\n",
              "      <td>3805.0</td>\n",
              "      <td>0.0</td>\n",
              "    </tr>\n",
              "    <tr>\n",
              "      <th>156227</th>\n",
              "      <td>Zimbabwe</td>\n",
              "      <td>Zimbabwe</td>\n",
              "      <td>-19.015438</td>\n",
              "      <td>29.154857</td>\n",
              "      <td>2021-08-07</td>\n",
              "      <td>115890.0</td>\n",
              "      <td>3826.0</td>\n",
              "      <td>0.0</td>\n",
              "    </tr>\n",
              "  </tbody>\n",
              "</table>\n",
              "<p>159612 rows × 8 columns</p>\n",
              "</div>"
            ],
            "text/plain": [
              "           province      country        lat       long       date  confirmed  deaths  recovered\n",
              "0       Afghanistan  Afghanistan  33.939110  67.709953 2020-01-22        0.0     0.0        0.0\n",
              "277     Afghanistan  Afghanistan  33.939110  67.709953 2020-01-23        0.0     0.0        0.0\n",
              "554     Afghanistan  Afghanistan  33.939110  67.709953 2020-01-24        0.0     0.0        0.0\n",
              "831     Afghanistan  Afghanistan  33.939110  67.709953 2020-01-25        0.0     0.0        0.0\n",
              "1108    Afghanistan  Afghanistan  33.939110  67.709953 2020-01-26        0.0     0.0        0.0\n",
              "...             ...          ...        ...        ...        ...        ...     ...        ...\n",
              "155119     Zimbabwe     Zimbabwe -19.015438  29.154857 2021-08-03   112435.0  3676.0    81570.0\n",
              "155396     Zimbabwe     Zimbabwe -19.015438  29.154857 2021-08-04   113526.0  3711.0    82994.0\n",
              "155673     Zimbabwe     Zimbabwe -19.015438  29.154857 2021-08-05   114489.0  3754.0        0.0\n",
              "155950     Zimbabwe     Zimbabwe -19.015438  29.154857 2021-08-06   115445.0  3805.0        0.0\n",
              "156227     Zimbabwe     Zimbabwe -19.015438  29.154857 2021-08-07   115890.0  3826.0        0.0\n",
              "\n",
              "[159612 rows x 8 columns]"
            ]
          },
          "metadata": {
            "tags": []
          },
          "execution_count": 11
        }
      ]
    },
    {
      "cell_type": "code",
      "metadata": {
        "id": "IEsDnG-agX4G"
      },
      "source": [
        ""
      ],
      "execution_count": null,
      "outputs": []
    },
    {
      "cell_type": "code",
      "metadata": {
        "id": "RQyPHMcdZ0Nd"
      },
      "source": [
        ""
      ],
      "execution_count": null,
      "outputs": []
    },
    {
      "cell_type": "code",
      "metadata": {
        "id": "LI4xZY43Z0Rg"
      },
      "source": [
        ""
      ],
      "execution_count": null,
      "outputs": []
    }
  ]
}